{
 "cells": [
  {
   "cell_type": "code",
   "execution_count": null,
   "metadata": {},
   "outputs": [],
   "source": [
    "import numpy as np\n",
    "import matplotlib.pyplot as plt\n",
    "import pandas as pd\n",
    "from skimage import io, img_as_uint\n",
    "from pylab import imshow, show, get_cmap\n",
    "from skimage.morphology import binary_opening, convex_hull_image as chull\n",
    "from skimage.io import imread, imsave\n",
    "from glob import glob\n",
    "from scipy import ndimage as ndi\n",
    "from scipy.ndimage.morphology import distance_transform_edt as distmap\n",
    "from skimage.feature import peak_local_max\n",
    "from skimage.morphology import watershed\n",
    "from skimage.measure import regionprops"
   ]
  },
  {
   "cell_type": "code",
   "execution_count": null,
   "metadata": {},
   "outputs": [],
   "source": [
    "# Create random test image\n",
    "Z = np.random.random((50, 50, 3))\n",
    "imsave(fname='test_image.tiff', arr=Z, plugin='pil')\n",
    "stack_image=imread('test_image.tiff')\n",
    "print(stack_image.shape, stack_image.dtype)"
   ]
  },
  {
   "cell_type": "code",
   "execution_count": null,
   "metadata": {},
   "outputs": [],
   "source": [
    "%matplotlib inline\n",
    "fig, (ax1, ax2, ax3) = plt.subplots(1,3, figsize = (12, 4))\n",
    "for i, (cax, clabel) in enumerate(zip([ax1, ax2, ax3], ['xy', 'zy', 'zx'])):\n",
    "    cax.imshow(np.sum(stack_image,i).squeeze(), interpolation='none', cmap = 'bone_r')\n",
    "    cax.set_title('%s Projection' % clabel)\n",
    "    cax.set_xlabel(clabel[0])\n",
    "    cax.set_ylabel(clabel[1])"
   ]
  },
  {
   "cell_type": "code",
   "execution_count": null,
   "metadata": {},
   "outputs": [],
   "source": [
    "plt.imshow(stack_image[0], cmap='bone')"
   ]
  },
  {
   "cell_type": "code",
   "execution_count": null,
   "metadata": {},
   "outputs": [],
   "source": [
    "bubble_image = np.stack([chull(csl>0) & (csl==0) for csl in stack_image])\n",
    "plt.imshow(bubble_image[5]>0, cmap = 'bone')"
   ]
  },
  {
   "cell_type": "code",
   "execution_count": null,
   "metadata": {},
   "outputs": [],
   "source": [
    "bubble_invert=np.invert(bubble_image)\n",
    "plt.imshow(bubble_invert[15],cmap='bone')"
   ]
  },
  {
   "cell_type": "code",
   "execution_count": null,
   "metadata": {},
   "outputs": [],
   "source": [
    "bubble_dist=distmap(bubble_invert)\n",
    "plt.imshow(bubble_dist[25,:,:],interpolation='none',cmap='jet')\n"
   ]
  },
  {
   "cell_type": "code",
   "execution_count": null,
   "metadata": {},
   "outputs": [],
   "source": [
    "bubble_candidates=peak_local_max(bubble_dist,min_distance=12)\n",
    "print('Found',len(bubble_candidates),'bubbles')\n",
    "df = pd.DataFrame(data=bubble_candidates, columns=['x','y','z'])\n",
    "df.to_csv('bubble.candidates.csv')\n",
    "bubble_seeds=peak_local_max(bubble_dist,min_distance=12, indices='false')\n",
    "plt.imshow(np.sum(bubble_seeds,0).squeeze(),interpolation='none', cmap='bone_r')"
   ]
  },
  {
   "cell_type": "code",
   "execution_count": null,
   "metadata": {},
   "outputs": [],
   "source": [
    "markers = ndi.label(bubble_seeds)[0]\n",
    "cropped_markers = markers[0:30,0:30,0:30]\n",
    "cropped_bubble_dist=bubble_dist[0:30,0:30,0:30]\n",
    "cropped_bubble_inver=bubble_invert[0:30,0:30,0:30]\n",
    "labeled_bubbles= watershed(-cropped_bubble_dist, cropped_markers, mask=cropped_bubble_inver)"
   ]
  },
  {
   "cell_type": "code",
   "execution_count": null,
   "metadata": {},
   "outputs": [],
   "source": [
    "props=regionprops(labeled_bubbles)"
   ]
  }
 ],
 "metadata": {
  "kernelspec": {
   "display_name": "Python 2",
   "language": "python",
   "name": "python2"
  },
  "language_info": {
   "codemirror_mode": {
    "name": "ipython",
    "version": 2
   },
   "file_extension": ".py",
   "mimetype": "text/x-python",
   "name": "python",
   "nbconvert_exporter": "python",
   "pygments_lexer": "ipython2",
   "version": "2.7.14"
  }
 },
 "nbformat": 4,
 "nbformat_minor": 2
}
