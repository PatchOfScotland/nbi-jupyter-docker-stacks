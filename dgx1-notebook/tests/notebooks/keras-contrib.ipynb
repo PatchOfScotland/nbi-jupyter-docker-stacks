{
 "cells": [
  {
   "cell_type": "code",
   "execution_count": null,
   "metadata": {},
   "outputs": [],
   "source": [
    "from keras.models import Sequential\n",
    "from keras.layers import Dense\n",
    "import numpy as np\n",
    "\n",
    "# I wish Keras had the Parametric Exponential Linear activation..\n",
    "# Oh, wait..!\n",
    "from keras_contrib.layers.advanced_activations import PELU\n",
    "\n",
    "# Create the Keras model, including the PELU advanced activation\n",
    "model = Sequential()\n",
    "model.add(Dense(100, input_shape=(10,)))\n",
    "model.add(PELU())\n",
    "\n",
    "# Compile and fit on random data\n",
    "model.compile(loss='mse', optimizer='adam')\n",
    "model.fit(x=np.random.random((100, 10)), y=np.random.random((100, 100)), epochs=5, verbose=0)\n"
   ]
  }
 ],
 "metadata": {
  "kernelspec": {
   "display_name": "Python 3",
   "language": "python",
   "name": "python3"
  },
  "language_info": {
   "codemirror_mode": {
    "name": "ipython",
    "version": 3
   },
   "file_extension": ".py",
   "mimetype": "text/x-python",
   "name": "python",
   "nbconvert_exporter": "python",
   "pygments_lexer": "ipython3",
   "version": "3.6.7"
  }
 },
 "nbformat": 4,
 "nbformat_minor": 2
}
