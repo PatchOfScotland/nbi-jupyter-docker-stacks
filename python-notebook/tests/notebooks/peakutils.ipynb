{
 "cells": [
  {
   "cell_type": "code",
   "execution_count": null,
   "metadata": {
    "collapsed": true
   },
   "outputs": [],
   "source": [
    "import numpy\n",
    "import peakutils\n",
    "from peakutils.plot import plot as pplot\n",
    "from matplotlib import pyplot\n",
    "%matplotlib inline"
   ]
  },
  {
   "cell_type": "code",
   "execution_count": null,
   "metadata": {
    "collapsed": true
   },
   "outputs": [],
   "source": [
    "centers = (30.5, 72.3)\n",
    "x = numpy.linspace(0, 120, 121)\n",
    "y = (peakutils.gaussian(x, 5, centers[0], 3) +\n",
    "     peakutils.gaussian(x, 7, centers[1], 10) +\n",
    "     numpy.random.rand(x.size))\n",
    "pyplot.figure(figsize=(10, 6))\n",
    "pyplot.plot(x, y)\n",
    "pyplot.title(\"Data with noise\")"
   ]
  },
  {
   "cell_type": "code",
   "execution_count": null,
   "metadata": {},
   "outputs": [],
   "source": [
    "indexes = peakutils.indexes(y, thres=0.5, min_dist=30)\n",
    "print(indexes)\n",
    "print(x[indexes], y[indexes])\n",
    "pyplot.figure(figsize=(10,6))\n",
    "pplot(x, y, indexes)\n",
    "pyplot.title('First estimate')"
   ]
  }
 ],
 "metadata": {
  "kernelspec": {
   "display_name": "Python 2",
   "language": "python",
   "name": "python2"
  },
  "language_info": {
   "codemirror_mode": {
    "name": "ipython",
    "version": 2
   },
   "file_extension": ".py",
   "mimetype": "text/x-python",
   "name": "python",
   "nbconvert_exporter": "python",
   "pygments_lexer": "ipython2",
   "version": "2.7.6"
  }
 },
 "nbformat": 4,
 "nbformat_minor": 0
}
