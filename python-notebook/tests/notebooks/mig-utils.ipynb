{
 "cells": [
  {
   "cell_type": "code",
   "execution_count": 1,
   "metadata": {},
   "outputs": [
    {
     "name": "stdout",
     "output_type": "stream",
     "text": [
      "ERDA\n",
      "['tmp']\n",
      "sddsfsf\n",
      "b'sddsfsf'\n",
      "sddsfsf\n",
      "sddsfsf\n",
      "\n",
      "\n",
      "IDMC\n",
      "['tmp', 'fisk']\n",
      "Torsk\n",
      "b'Torsk'\n",
      "Torsk\n",
      "Torsk\n"
     ]
    }
   ],
   "source": [
    "# import os\n",
    "# from mig.io import ERDAShare, IDMCShare\n",
    "# \n",
    "# \n",
    "# # Sharelinks lib Tutorial\n",
    "# \n",
    "# # ERDA Sharelink example\n",
    "# print(\"ERDA\")\n",
    "# # Open connection to a sharelink\n",
    "# erda_share = ERDAShare(os.environ['ERDA_TEST_SHARE'])\n",
    "# # List files/dirs in share\n",
    "# print(erda_share.list())\n",
    "# \n",
    "# with erda_share.open('tmp', 'w') as tmp:\n",
    "#     tmp.write(\"sdfsfsf\")\n",
    "# \n",
    "# # Get a _io.SFTPFileHandle object with automatic close\n",
    "# with erda_share.open('tmp', 'r') as tmp:\n",
    "#     print(tmp.read())\n",
    "# \n",
    "# # Get a default _io.SFTPFileHandle object with manual lifetime\n",
    "# file = erda_share.open('tmp', 'r')\n",
    "# print(file.read())\n",
    "# file.close()\n",
    "# \n",
    "# # remove file\n",
    "# erda_share.remove('tmp')\n",
    "# \n",
    "# print(\"\\n\")\n",
    "# \n",
    "# # IDMC Sharelink example\n",
    "# print(\"IDMC\")\n",
    "# # Open connection to a sharelink\n",
    "# idmc_share = IDMCShare(os.environ['IDMC_TEST_SHARE'])\n",
    "# # List files/dirs in share\n",
    "# print(idmc_share.list())\n",
    "# \n",
    "# # write binary string\n",
    "# with idmc_share.open('b_tmp', 'wb') as b_tmp:\n",
    "#     b_tmp.write(b'sadasdasd')\n",
    "# \n",
    "# # Get a _io.SFTPFileHandle object with automatic close\n",
    "# with idmc_share.open('b_tmp', 'rb') as tmp:\n",
    "#     print(tmp.read())\n",
    "# \n",
    "# # Get a default _io.TextIOWrapper object with manual lifetime\n",
    "# file = idmc_share.open('b_tmp', 'rb')\n",
    "# print(file.read())\n",
    "# file.close()\n",
    "# \n",
    "# # remove file\n",
    "# idmc_share.remove('b_tmp')"
   ]
  },
  {
   "cell_type": "code",
   "execution_count": null,
   "metadata": {},
   "outputs": [],
   "source": []
  }
 ],
 "metadata": {
  "kernelspec": {
   "display_name": "Python 3",
   "language": "python",
   "name": "python3"
  },
  "language_info": {
   "codemirror_mode": {
    "name": "ipython",
    "version": 3
   },
   "file_extension": ".py",
   "mimetype": "text/x-python",
   "name": "python",
   "nbconvert_exporter": "python",
   "pygments_lexer": "ipython3",
   "version": "3.6.4"
  }
 },
 "nbformat": 4,
 "nbformat_minor": 2
}
